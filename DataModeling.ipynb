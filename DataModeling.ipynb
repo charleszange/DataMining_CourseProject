{
 "cells": [
  {
   "cell_type": "code",
   "execution_count": 1,
   "metadata": {},
   "outputs": [],
   "source": [
    "###########################################\n",
    "############### CODE-SAMPLE ###############\n",
    "# Author: Charles Zange                   #\n",
    "# Date modified: 2019-06-09 05:43PM EST   #\n",
    "# Client: INFO634-900, Drexel University  #\n",
    "###########################################\n",
    "\n",
    "\n",
    "#########################################################################################################\n",
    "################################################ SUMMARY ################################################\n",
    "# This code is a sample of the total code used for this project.                                        #\n",
    "# Code included:                                                                                        #\n",
    "## Syntax necessary to run the machine learning algorithm to create the final classification model.     #\n",
    "## Syntax that checks the accuracy of the said model.                                                   #\n",
    "# Code not included:                                                                                    #\n",
    "## All preprocessing to create the dataset for the classification model.                                #\n",
    "## Previous iterations of the final classification model that failed to perform to expectations.        #\n",
    "#                                                                                                       #\n",
    "# Code must be executed from the same working directory as the target files. Names must match.          #\n",
    "# This document is hard-coded to execute on specifically the Library_Collection_Inventory.csv, and has  #\n",
    "# not been generalized for additional inputs.                                                           #\n",
    "#########################################################################################################\n"
   ]
  },
  {
   "cell_type": "code",
   "execution_count": 1,
   "metadata": {},
   "outputs": [],
   "source": [
    "#### IMPORTS ####\n",
    "\n",
    "# Basic necessities for document handling\n",
    "import numpy as np\n",
    "import pandas as pd\n",
    "import csv\n",
    "import codecs\n",
    "pd.options.mode.chained_assignment = None # helps with slicing dataframes\n",
    "\n",
    "# tools for machine learning, accuracy management, and feature selection\n",
    "from sklearn.feature_extraction import DictVectorizer\n",
    "from sklearn.model_selection import train_test_split\n",
    "from sklearn.ensemble import RandomForestClassifier\n",
    "from sklearn.metrics import confusion_matrix\n",
    "from sklearn.feature_selection import SelectKBest, f_classif\n",
    "\n",
    "# additional tools for plotting confusion matrix\n",
    "import matplotlib.pyplot as plt\n",
    "from sklearn.utils.multiclass import unique_labels\n",
    "%matplotlib inline"
   ]
  },
  {
   "cell_type": "code",
   "execution_count": 2,
   "metadata": {},
   "outputs": [],
   "source": [
    "#### LOAD ####\n",
    "\n",
    "# Loads source data that has been preprocessed.\n",
    "df = pd.read_csv(codecs.open(\"Library_Collection_Inventory.csv\", 'r', encoding='utf-8',errors='ignore'))"
   ]
  },
  {
   "cell_type": "code",
   "execution_count": 3,
   "metadata": {},
   "outputs": [
    {
     "data": {
      "text/plain": [
       "Index(['BibNum', 'Title', 'Author', 'ISBN', 'PublicationYear', 'Publisher',\n",
       "       'Subjects', 'ItemType', 'ItemCollection', 'FloatingItem',\n",
       "       'ItemLocation', 'ReportDate', 'ItemCount'],\n",
       "      dtype='object')"
      ]
     },
     "execution_count": 3,
     "metadata": {},
     "output_type": "execute_result"
    }
   ],
   "source": [
    "# Check keys\n",
    "df.keys()"
   ]
  },
  {
   "cell_type": "code",
   "execution_count": 4,
   "metadata": {},
   "outputs": [
    {
     "data": {
      "text/html": [
       "<div>\n",
       "<style scoped>\n",
       "    .dataframe tbody tr th:only-of-type {\n",
       "        vertical-align: middle;\n",
       "    }\n",
       "\n",
       "    .dataframe tbody tr th {\n",
       "        vertical-align: top;\n",
       "    }\n",
       "\n",
       "    .dataframe thead th {\n",
       "        text-align: right;\n",
       "    }\n",
       "</style>\n",
       "<table border=\"1\" class=\"dataframe\">\n",
       "  <thead>\n",
       "    <tr style=\"text-align: right;\">\n",
       "      <th></th>\n",
       "      <th>BibNum</th>\n",
       "      <th>Title</th>\n",
       "      <th>Author</th>\n",
       "      <th>ISBN</th>\n",
       "      <th>PublicationYear</th>\n",
       "      <th>Publisher</th>\n",
       "      <th>Subjects</th>\n",
       "      <th>ItemType</th>\n",
       "      <th>ItemCollection</th>\n",
       "      <th>FloatingItem</th>\n",
       "      <th>ItemLocation</th>\n",
       "      <th>ReportDate</th>\n",
       "      <th>ItemCount</th>\n",
       "    </tr>\n",
       "  </thead>\n",
       "  <tbody>\n",
       "    <tr>\n",
       "      <th>0</th>\n",
       "      <td>3011076</td>\n",
       "      <td>A tale of two friends / adapted by Ellie O'Rya...</td>\n",
       "      <td>O'Ryan, Ellie</td>\n",
       "      <td>1481425730, 1481425749, 9781481425735, 9781481...</td>\n",
       "      <td>2014.</td>\n",
       "      <td>Simon Spotlight,</td>\n",
       "      <td>Musicians Fiction, Bullfighters Fiction, Best ...</td>\n",
       "      <td>jcbk</td>\n",
       "      <td>ncrdr</td>\n",
       "      <td>Floating</td>\n",
       "      <td>qna</td>\n",
       "      <td>09/01/2017</td>\n",
       "      <td>1</td>\n",
       "    </tr>\n",
       "    <tr>\n",
       "      <th>1</th>\n",
       "      <td>2248846</td>\n",
       "      <td>Naruto. Vol. 1, Uzumaki Naruto / story and art...</td>\n",
       "      <td>Kishimoto, Masashi, 1974-</td>\n",
       "      <td>1569319006</td>\n",
       "      <td>2003, c1999.</td>\n",
       "      <td>Viz,</td>\n",
       "      <td>Ninja Japan Comic books strips etc, Comic book...</td>\n",
       "      <td>acbk</td>\n",
       "      <td>nycomic</td>\n",
       "      <td>NaN</td>\n",
       "      <td>lcy</td>\n",
       "      <td>09/01/2017</td>\n",
       "      <td>1</td>\n",
       "    </tr>\n",
       "    <tr>\n",
       "      <th>2</th>\n",
       "      <td>3209270</td>\n",
       "      <td>Peace, love &amp; Wi-Fi : a ZITS treasury / by Jer...</td>\n",
       "      <td>Scott, Jerry, 1955-</td>\n",
       "      <td>144945867X, 9781449458676</td>\n",
       "      <td>2014.</td>\n",
       "      <td>Andrews McMeel Publishing,</td>\n",
       "      <td>Duncan Jeremy Fictitious character Comic books...</td>\n",
       "      <td>acbk</td>\n",
       "      <td>nycomic</td>\n",
       "      <td>NaN</td>\n",
       "      <td>bea</td>\n",
       "      <td>09/01/2017</td>\n",
       "      <td>1</td>\n",
       "    </tr>\n",
       "    <tr>\n",
       "      <th>3</th>\n",
       "      <td>1907265</td>\n",
       "      <td>The Paris pilgrims : a novel / Clancy Carlile.</td>\n",
       "      <td>Carlile, Clancy, 1930-</td>\n",
       "      <td>0786706155</td>\n",
       "      <td>c1999.</td>\n",
       "      <td>Carroll &amp; Graf,</td>\n",
       "      <td>Hemingway Ernest 1899 1961 Fiction, Biographic...</td>\n",
       "      <td>acbk</td>\n",
       "      <td>cafic</td>\n",
       "      <td>NaN</td>\n",
       "      <td>cen</td>\n",
       "      <td>09/01/2017</td>\n",
       "      <td>1</td>\n",
       "    </tr>\n",
       "    <tr>\n",
       "      <th>4</th>\n",
       "      <td>1644616</td>\n",
       "      <td>Erotic by nature : a celebration of life, of l...</td>\n",
       "      <td>NaN</td>\n",
       "      <td>094020813X</td>\n",
       "      <td>1991, c1988.</td>\n",
       "      <td>Red Alder Books/Down There Press,</td>\n",
       "      <td>Erotic literature American, American literatur...</td>\n",
       "      <td>acbk</td>\n",
       "      <td>canf</td>\n",
       "      <td>NaN</td>\n",
       "      <td>cen</td>\n",
       "      <td>09/01/2017</td>\n",
       "      <td>1</td>\n",
       "    </tr>\n",
       "  </tbody>\n",
       "</table>\n",
       "</div>"
      ],
      "text/plain": [
       "    BibNum                                              Title  \\\n",
       "0  3011076  A tale of two friends / adapted by Ellie O'Rya...   \n",
       "1  2248846  Naruto. Vol. 1, Uzumaki Naruto / story and art...   \n",
       "2  3209270  Peace, love & Wi-Fi : a ZITS treasury / by Jer...   \n",
       "3  1907265     The Paris pilgrims : a novel / Clancy Carlile.   \n",
       "4  1644616  Erotic by nature : a celebration of life, of l...   \n",
       "\n",
       "                      Author  \\\n",
       "0              O'Ryan, Ellie   \n",
       "1  Kishimoto, Masashi, 1974-   \n",
       "2        Scott, Jerry, 1955-   \n",
       "3     Carlile, Clancy, 1930-   \n",
       "4                        NaN   \n",
       "\n",
       "                                                ISBN PublicationYear  \\\n",
       "0  1481425730, 1481425749, 9781481425735, 9781481...           2014.   \n",
       "1                                         1569319006    2003, c1999.   \n",
       "2                          144945867X, 9781449458676           2014.   \n",
       "3                                         0786706155          c1999.   \n",
       "4                                         094020813X    1991, c1988.   \n",
       "\n",
       "                           Publisher  \\\n",
       "0                   Simon Spotlight,   \n",
       "1                               Viz,   \n",
       "2         Andrews McMeel Publishing,   \n",
       "3                    Carroll & Graf,   \n",
       "4  Red Alder Books/Down There Press,   \n",
       "\n",
       "                                            Subjects ItemType ItemCollection  \\\n",
       "0  Musicians Fiction, Bullfighters Fiction, Best ...     jcbk          ncrdr   \n",
       "1  Ninja Japan Comic books strips etc, Comic book...     acbk        nycomic   \n",
       "2  Duncan Jeremy Fictitious character Comic books...     acbk        nycomic   \n",
       "3  Hemingway Ernest 1899 1961 Fiction, Biographic...     acbk          cafic   \n",
       "4  Erotic literature American, American literatur...     acbk           canf   \n",
       "\n",
       "  FloatingItem ItemLocation  ReportDate  ItemCount  \n",
       "0     Floating          qna  09/01/2017          1  \n",
       "1          NaN          lcy  09/01/2017          1  \n",
       "2          NaN          bea  09/01/2017          1  \n",
       "3          NaN          cen  09/01/2017          1  \n",
       "4          NaN          cen  09/01/2017          1  "
      ]
     },
     "execution_count": 4,
     "metadata": {},
     "output_type": "execute_result"
    }
   ],
   "source": [
    "# Check data\n",
    "df.head()"
   ]
  },
  {
   "cell_type": "code",
   "execution_count": 7,
   "metadata": {},
   "outputs": [],
   "source": [
    "# Filter out FloatingItems, since these have multiple locations\n",
    "mask_floating = [value != 'Floating' for value in df['FloatingItem']]\n",
    "df = df[mask_floating]\n",
    "\n",
    "# Drop fields that are excluded from testing\n",
    "df = df.drop(columns=['ReportDate','ISBN','Title','BibNum','FloatingItem','ItemCount'])\n",
    "\n",
    "# Clear out NA's to clean up data.\n",
    "df = df.dropna()\n",
    "\n",
    "# Show new results\n",
    "#df.head()"
   ]
  },
  {
   "cell_type": "code",
   "execution_count": 8,
   "metadata": {},
   "outputs": [],
   "source": [
    "#### CLASSIFIER PREP ####\n",
    "# Generates a dict for re-encoding the string values for\n",
    "# itemType, itemCollection, and itemLocation into integers.\n",
    "# This is necessary for RandomForest using Python 3 in my development\n",
    "# environment of Jupyter Lab.\n",
    "\n",
    "\n",
    "authors, publicationyears, publishers, itemTypes, itemCollections, subjects = {},{},{},{},{},{}\n",
    "i = 0\n",
    "for idx, row in df.iterrows():\n",
    "    if row['ItemType'] not in itemTypes.keys():\n",
    "        itemTypes[row['ItemType']] = i\n",
    "        i += 1\n",
    "    if row['ItemCollection'] not in itemCollections.keys():\n",
    "        itemCollections[row['ItemCollection']] = i\n",
    "        i += 1\n",
    "    if row['Subjects'] not in subjects.keys():\n",
    "        subjects[row['Subjects']] = i\n",
    "        i += 1\n",
    "    if row['Author'] not in authors.keys():\n",
    "        authors[row['Author']] = i\n",
    "        i += 1\n",
    "    if row['PublicationYear'] not in publicationyears.keys():\n",
    "        publicationyears[row['PublicationYear']] = i\n",
    "        i += 1\n",
    "    if row['Publisher'] not in publishers.keys():\n",
    "        publishers[row['Publisher']] = i\n",
    "        i += 1\n",
    "        \n",
    "\n",
    "## Encodes itemType, itemCollection, and itemLocation based on dicts\n",
    "df['ItemType'] = [itemTypes[item] for item in df['ItemType']]\n",
    "df['ItemCollection'] = [itemCollections[item] for item in df['ItemCollection']]\n",
    "df['Subjects'] = [subjects[item] for item in df['Subjects']]\n",
    "df['Author'] = [authors[item] for item in df['Author']]\n",
    "df['PublicationYear'] = [publicationyears[item] for item in df['PublicationYear']]\n",
    "df['Publisher'] = [publishers[item] for item in df['Publisher']]"
   ]
  },
  {
   "cell_type": "code",
   "execution_count": 9,
   "metadata": {},
   "outputs": [],
   "source": [
    "# Create splits from the data which will be used for F-tests in SelectKBest\n",
    "# as well as the classifier. Coded for a 2/3 training 1/3 testing split\n",
    "target_cols = ['Author','PublicationYear','Publisher','Subjects','ItemType','ItemCollection']\n",
    "train_x, test_x, train_y, test_y = train_test_split(df[target_cols],df['ItemLocation'],train_size=.67,test_size=.33)"
   ]
  },
  {
   "cell_type": "code",
   "execution_count": 10,
   "metadata": {},
   "outputs": [
    {
     "name": "stderr",
     "output_type": "stream",
     "text": [
      "C:\\Users\\zange\\Anaconda3\\lib\\site-packages\\sklearn\\ensemble\\forest.py:246: FutureWarning: The default value of n_estimators will change from 10 in version 0.20 to 100 in 0.22.\n",
      "  \"10 in version 0.20 to 100 in 0.22.\", FutureWarning)\n"
     ]
    },
    {
     "name": "stdout",
     "output_type": "stream",
     "text": [
      "Overall accuracy:  0.5132916599389508\n"
     ]
    }
   ],
   "source": [
    "classifier = RandomForestClassifier()\n",
    "classifier.fit(train_x,train_y)\n",
    "output_y = classifier.predict(test_x)\n",
    "score_output = classifier.score(test_x,test_y)\n",
    "print(\"Overall accuracy: \",score_output) # It works, but the accuracy is poor, about 48%"
   ]
  },
  {
   "cell_type": "code",
   "execution_count": 11,
   "metadata": {},
   "outputs": [
    {
     "name": "stdout",
     "output_type": "stream",
     "text": [
      "Accuracy score: 3600.103973787134 for feature Author\n",
      "Accuracy score: 302.06966039633454 for feature PublicationYear\n",
      "Accuracy score: 1659.1432239090318 for feature Publisher\n",
      "Accuracy score: 3518.20320782055 for feature Subjects\n",
      "Accuracy score: 12.083891271687051 for feature ItemType\n",
      "Accuracy score: 43.477891469539685 for feature ItemCollection\n"
     ]
    }
   ],
   "source": [
    "# Finding K-best\n",
    "kBest = SelectKBest(f_classif,k=2).fit(test_x.values,test_y.values)\n",
    "for n,s in zip(test_x.keys(),kBest.scores_):\n",
    "    print(\"Accuracy score: \" + str(s) + \" for feature \" + str(n))"
   ]
  },
  {
   "cell_type": "code",
   "execution_count": 12,
   "metadata": {},
   "outputs": [
    {
     "data": {
      "text/plain": [
       "30"
      ]
     },
     "execution_count": 12,
     "metadata": {},
     "output_type": "execute_result"
    }
   ],
   "source": [
    "classifier.n_classes_"
   ]
  },
  {
   "cell_type": "code",
   "execution_count": 13,
   "metadata": {},
   "outputs": [
    {
     "data": {
      "text/plain": [
       "array([0.15348434, 0.10025312, 0.12674247, 0.1549791 , 0.06954648,\n",
       "       0.3949945 ])"
      ]
     },
     "execution_count": 13,
     "metadata": {},
     "output_type": "execute_result"
    }
   ],
   "source": [
    "classifier.feature_importances_ # this suggests that ItemCollection is the most significant"
   ]
  },
  {
   "cell_type": "code",
   "execution_count": 14,
   "metadata": {},
   "outputs": [
    {
     "name": "stdout",
     "output_type": "stream",
     "text": [
      "Automatically created module for IPython interactive environment\n"
     ]
    },
    {
     "data": {
      "image/png": "[encoded data removed]",
      "text/plain": [
       "<Figure size 864x864 with 2 Axes>"
      ]
     },
     "metadata": {
      "needs_background": "light"
     },
     "output_type": "display_data"
    }
   ],
   "source": [
    "## Confusion matrix plotting from https://scikit-learn.org/stable/auto_examples/model_selection/plot_confusion_matrix.html#sphx-glr-auto-examples-model-selection-plot-confusion-matrix-py\n",
    "# Some slight edits to make this fit my needs\n",
    "\n",
    "print(__doc__)\n",
    "\n",
    "#### CZ some lines removed from original\n",
    "\n",
    "class_names = test_y.unique() ##### CZ edited to fit my data\n",
    "\n",
    "def plot_confusion_matrix(y_true, y_pred, classes,\n",
    "                          normalize=False,\n",
    "                          title=None,\n",
    "                          cmap=plt.cm.Blues):\n",
    "    \"\"\"\n",
    "    This function prints and plots the confusion matrix.\n",
    "    Normalization can be applied by setting `normalize=True`.\n",
    "    \"\"\"\n",
    "    if not title:\n",
    "        if normalize:\n",
    "            title = 'Normalized confusion matrix'\n",
    "        else:\n",
    "            title = 'Confusion matrix, without normalization'\n",
    "\n",
    "    # Compute confusion matrix\n",
    "    cm = confusion_matrix(y_true, y_pred)\n",
    "    # Only use the labels that appear in the data\n",
    "    classes = np.unique(y_pred) ##### CZ edited to fit my data\n",
    "    if normalize:\n",
    "        cm = cm.astype('float') / cm.sum(axis=1)[:, np.newaxis]\n",
    "        \n",
    "    ####### CZ some lines removed from original\n",
    "\n",
    "    fig, ax = plt.subplots()\n",
    "    fig.set_size_inches(12,12) #### CZ added this for resizing\n",
    "    im = ax.imshow(cm, interpolation='nearest', cmap=cmap)\n",
    "    ax.figure.colorbar(im, ax=ax)\n",
    "    # We want to show all ticks...\n",
    "    ax.set(xticks=np.arange(cm.shape[1]),\n",
    "           yticks=np.arange(cm.shape[0]),\n",
    "           # ... and label them with the respective list entries\n",
    "           xticklabels=classes, yticklabels=classes,\n",
    "           title=title,\n",
    "           ylabel='True label',\n",
    "           xlabel='Predicted label')\n",
    "\n",
    "    # Rotate the tick labels and set their alignment.\n",
    "    plt.setp(ax.get_xticklabels(), rotation=45, ha=\"right\",\n",
    "             rotation_mode=\"anchor\")\n",
    "\n",
    "    #### CZ some lines removed from original\n",
    "    return ax\n",
    "\n",
    "\n",
    "np.set_printoptions(precision=2)\n",
    "\n",
    "#### CZ some lines removed from original\n",
    "\n",
    "# Plot normalized confusion matrix\n",
    "plot_confusion_matrix(test_y, output_y, classes=class_names, normalize=True,\n",
    "                      title='Normalized confusion matrix')\n",
    "\n",
    "plt.show()"
   ]
  },
  {
   "cell_type": "code",
   "execution_count": 17,
   "metadata": {},
   "outputs": [
    {
     "data": {
      "text/html": [
       "<div>\n",
       "<style scoped>\n",
       "    .dataframe tbody tr th:only-of-type {\n",
       "        vertical-align: middle;\n",
       "    }\n",
       "\n",
       "    .dataframe tbody tr th {\n",
       "        vertical-align: top;\n",
       "    }\n",
       "\n",
       "    .dataframe thead th {\n",
       "        text-align: right;\n",
       "    }\n",
       "</style>\n",
       "<table border=\"1\" class=\"dataframe\">\n",
       "  <thead>\n",
       "    <tr style=\"text-align: right;\">\n",
       "      <th></th>\n",
       "      <th>Author</th>\n",
       "      <th>PublicationYear</th>\n",
       "      <th>Publisher</th>\n",
       "      <th>Subjects</th>\n",
       "      <th>ItemType</th>\n",
       "      <th>ItemCollection</th>\n",
       "      <th>ItemLocation</th>\n",
       "    </tr>\n",
       "  </thead>\n",
       "  <tbody>\n",
       "    <tr>\n",
       "      <th>1</th>\n",
       "      <td>3</td>\n",
       "      <td>4</td>\n",
       "      <td>5</td>\n",
       "      <td>2</td>\n",
       "      <td>0</td>\n",
       "      <td>1</td>\n",
       "      <td>lcy</td>\n",
       "    </tr>\n",
       "    <tr>\n",
       "      <th>2</th>\n",
       "      <td>7</td>\n",
       "      <td>8</td>\n",
       "      <td>9</td>\n",
       "      <td>6</td>\n",
       "      <td>0</td>\n",
       "      <td>1</td>\n",
       "      <td>bea</td>\n",
       "    </tr>\n",
       "    <tr>\n",
       "      <th>7</th>\n",
       "      <td>17</td>\n",
       "      <td>18</td>\n",
       "      <td>19</td>\n",
       "      <td>16</td>\n",
       "      <td>0</td>\n",
       "      <td>15</td>\n",
       "      <td>lcy</td>\n",
       "    </tr>\n",
       "    <tr>\n",
       "      <th>8</th>\n",
       "      <td>22</td>\n",
       "      <td>23</td>\n",
       "      <td>24</td>\n",
       "      <td>21</td>\n",
       "      <td>0</td>\n",
       "      <td>20</td>\n",
       "      <td>nga</td>\n",
       "    </tr>\n",
       "    <tr>\n",
       "      <th>10</th>\n",
       "      <td>27</td>\n",
       "      <td>8</td>\n",
       "      <td>28</td>\n",
       "      <td>26</td>\n",
       "      <td>0</td>\n",
       "      <td>25</td>\n",
       "      <td>mon</td>\n",
       "    </tr>\n",
       "  </tbody>\n",
       "</table>\n",
       "</div>"
      ],
      "text/plain": [
       "    Author  PublicationYear  Publisher  Subjects  ItemType  ItemCollection  \\\n",
       "1        3                4          5         2         0               1   \n",
       "2        7                8          9         6         0               1   \n",
       "7       17               18         19        16         0              15   \n",
       "8       22               23         24        21         0              20   \n",
       "10      27                8         28        26         0              25   \n",
       "\n",
       "   ItemLocation  \n",
       "1           lcy  \n",
       "2           bea  \n",
       "7           lcy  \n",
       "8           nga  \n",
       "10          mon  "
      ]
     },
     "execution_count": 17,
     "metadata": {},
     "output_type": "execute_result"
    }
   ],
   "source": [
    "## SECOND RUN - non-'cen' data\n",
    "\n",
    "# Prep dataframe mask for only non-'cen' observations\n",
    "mask_nonCen = [value != 'cen' for value in df['ItemLocation']]\n",
    "df[mask_nonCen].head()"
   ]
  },
  {
   "cell_type": "code",
   "execution_count": 18,
   "metadata": {},
   "outputs": [],
   "source": [
    "# Create non-'cen' dataframe\n",
    "df_nonCen = df[mask_nonCen]"
   ]
  },
  {
   "cell_type": "code",
   "execution_count": 19,
   "metadata": {},
   "outputs": [],
   "source": [
    "# New train/test split\n",
    "train_x2, test_x2, train_y2, test_y2 = train_test_split(df_nonCen[target_cols],df_nonCen['ItemLocation'],train_size=.67,test_size=.33)"
   ]
  },
  {
   "cell_type": "code",
   "execution_count": 20,
   "metadata": {},
   "outputs": [
    {
     "name": "stderr",
     "output_type": "stream",
     "text": [
      "C:\\Users\\zange\\Anaconda3\\lib\\site-packages\\sklearn\\ensemble\\forest.py:246: FutureWarning: The default value of n_estimators will change from 10 in version 0.20 to 100 in 0.22.\n",
      "  \"10 in version 0.20 to 100 in 0.22.\", FutureWarning)\n"
     ]
    },
    {
     "name": "stdout",
     "output_type": "stream",
     "text": [
      "Overall accuracy:  0.15400566825856105\n"
     ]
    }
   ],
   "source": [
    "# New classifier\n",
    "classifier2 = RandomForestClassifier()\n",
    "classifier2.fit(train_x2,train_y2)\n",
    "output_y2 = classifier2.predict(test_x2)\n",
    "score_output2 = classifier2.score(test_x2,test_y2)\n",
    "print(\"Overall accuracy: \",score_output2)"
   ]
  },
  {
   "cell_type": "code",
   "execution_count": 21,
   "metadata": {},
   "outputs": [
    {
     "data": {
      "image/png": "[encoded data removed]",
      "text/plain": [
       "<Figure size 864x864 with 2 Axes>"
      ]
     },
     "metadata": {
      "needs_background": "light"
     },
     "output_type": "display_data"
    }
   ],
   "source": [
    "# New confusion matrix\n",
    "class_names2 = test_y2.unique\n",
    "plot_confusion_matrix(test_y2, output_y2, classes=class_names2, normalize=True,\n",
    "                      title='Normalized confusion matrix')\n",
    "\n",
    "plt.show()"
   ]
  },
  {
   "cell_type": "code",
   "execution_count": null,
   "metadata": {},
   "outputs": [],
   "source": []
  }
 ],
 "metadata": {
  "kernelspec": {
   "display_name": "Python 3",
   "language": "python",
   "name": "python3"
  },
  "language_info": {
   "codemirror_mode": {
    "name": "ipython",
    "version": 3
   },
   "file_extension": ".py",
   "mimetype": "text/x-python",
   "name": "python",
   "nbconvert_exporter": "python",
   "pygments_lexer": "ipython3",
   "version": "3.7.1"
  }
 },
 "nbformat": 4,
 "nbformat_minor": 2
}
